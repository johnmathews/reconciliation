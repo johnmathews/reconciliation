{
 "cells": [
  {
   "cell_type": "markdown",
   "metadata": {
    "deletable": true,
    "editable": true
   },
   "source": [
    "# Reconciliation of a Trial Balance to a General Ledger"
   ]
  },
  {
   "cell_type": "markdown",
   "metadata": {
    "deletable": true,
    "editable": true
   },
   "source": [
    "I've been working with financial ledgers a lot recently. The python code below shows an automated workflow to import, process and report on the reconciliation of a Trial Balance (TB) to a General Ledger (GL). \n",
    "\n",
    "I'm using fake data, but the script would work fine with real data if the fields were renamed appropriately. A real data set would have additional fields that needed to be condidered but these vary depending on the size and type of business being analysed. Therefore the fake GL and TB used here are simple and generic. Additional fields, such as entity code, transaction status, approver, time stamps, etc can be added quickly and simply. "
   ]
  },
  {
   "cell_type": "markdown",
   "metadata": {
    "deletable": true,
    "editable": true
   },
   "source": [
    "Set-up the notebook, Import data:"
   ]
  },
  {
   "cell_type": "code",
   "execution_count": 1,
   "metadata": {
    "collapsed": true,
    "deletable": true,
    "editable": true
   },
   "outputs": [],
   "source": [
    "# Import libraries\n",
    "import pandas as pd\n",
    "import random"
   ]
  },
  {
   "cell_type": "code",
   "execution_count": 2,
   "metadata": {
    "collapsed": false,
    "deletable": true,
    "editable": true
   },
   "outputs": [],
   "source": [
    "# Import (possibly incomplete and/or inaccurate) data\n",
    "gl = pd.read_csv('glx.txt', sep = '|')\n",
    "tb = pd.read_csv('tbx.txt', sep = '|')"
   ]
  },
  {
   "cell_type": "markdown",
   "metadata": {
    "deletable": true,
    "editable": true
   },
   "source": [
    "Create reconciliation report:"
   ]
  },
  {
   "cell_type": "markdown",
   "metadata": {
    "deletable": true,
    "editable": true
   },
   "source": [
    "Calculate net movement for each account in the ledger data:"
   ]
  },
  {
   "cell_type": "code",
   "execution_count": 3,
   "metadata": {
    "collapsed": false,
    "deletable": true,
    "editable": true
   },
   "outputs": [],
   "source": [
    "gl_move = gl[['Account','Functional_Amount']]\n",
    "gl_move = gl_move.groupby(['Account']).sum().round(2)\n",
    "gl_move.reset_index(level=0, inplace=True)\n",
    "gl_move.columns = ['Account','GL_Movement']\n",
    "gl_move.sort_values(by = 'Account')\n",
    "gl_move.set_index('Account', inplace = True)\n"
   ]
  },
  {
   "cell_type": "markdown",
   "metadata": {
    "deletable": true,
    "editable": true
   },
   "source": [
    "Calculate the movement for each account in the trial balance data:"
   ]
  },
  {
   "cell_type": "code",
   "execution_count": 4,
   "metadata": {
    "collapsed": true,
    "deletable": true,
    "editable": true
   },
   "outputs": [],
   "source": [
    "tb['TB_Movement'] = ( tb['Balance c/f'] - tb['Balance b/f'] ).round(2)\n",
    "tb.set_index('Account', inplace = True)"
   ]
  },
  {
   "cell_type": "markdown",
   "metadata": {
    "deletable": true,
    "editable": true
   },
   "source": [
    "Compare each accounts movement in the ledger data and the trial balance and write the result to a report containing the reconciliation results for all accounts:"
   ]
  },
  {
   "cell_type": "code",
   "execution_count": 5,
   "metadata": {
    "collapsed": false,
    "deletable": true,
    "editable": true
   },
   "outputs": [],
   "source": [
    "Rec_report = tb.merge(gl_move, how = 'outer', left_index = True, right_index = True)\n",
    "Rec_report['difference'] = Rec_report.TB_Movement - Rec_report.GL_Movement\n",
    "Rec_report['difference'] = Rec_report['difference'].astype(float)\n",
    "Rec_report['Balance date'] = Rec_report['Balance date'].astype(str).str[0:8]\n",
    "Rec_report.to_csv('All_accounts.txt', sep='|', encoding='utf-8', header=True, index=True)"
   ]
  },
  {
   "cell_type": "markdown",
   "metadata": {
    "deletable": true,
    "editable": true
   },
   "source": [
    "Put the accounts which do not reconcile into a seperate report:"
   ]
  },
  {
   "cell_type": "code",
   "execution_count": 6,
   "metadata": {
    "collapsed": false,
    "deletable": true,
    "editable": true
   },
   "outputs": [
    {
     "data": {
      "text/html": [
       "<div>\n",
       "<table border=\"1\" class=\"dataframe\">\n",
       "  <thead>\n",
       "    <tr style=\"text-align: right;\">\n",
       "      <th></th>\n",
       "      <th>Type</th>\n",
       "      <th>Balance b/f</th>\n",
       "      <th>Balance c/f</th>\n",
       "      <th>Balance date</th>\n",
       "      <th>TB_Movement</th>\n",
       "      <th>GL_Movement</th>\n",
       "      <th>difference</th>\n",
       "    </tr>\n",
       "    <tr>\n",
       "      <th>Account</th>\n",
       "      <th></th>\n",
       "      <th></th>\n",
       "      <th></th>\n",
       "      <th></th>\n",
       "      <th></th>\n",
       "      <th></th>\n",
       "      <th></th>\n",
       "    </tr>\n",
       "  </thead>\n",
       "  <tbody>\n",
       "    <tr>\n",
       "      <th>ACP00081</th>\n",
       "      <td>P&amp;L</td>\n",
       "      <td>0.00</td>\n",
       "      <td>-16279.96</td>\n",
       "      <td>20161231</td>\n",
       "      <td>-16279.96</td>\n",
       "      <td>-17017.89</td>\n",
       "      <td>737.93</td>\n",
       "    </tr>\n",
       "    <tr>\n",
       "      <th>ACB00082</th>\n",
       "      <td>BS</td>\n",
       "      <td>760.09</td>\n",
       "      <td>-4041.02</td>\n",
       "      <td>20161231</td>\n",
       "      <td>-4801.11</td>\n",
       "      <td>-4063.18</td>\n",
       "      <td>-737.93</td>\n",
       "    </tr>\n",
       "    <tr>\n",
       "      <th>ACP00071</th>\n",
       "      <td>P&amp;L</td>\n",
       "      <td>0.00</td>\n",
       "      <td>-28547.84</td>\n",
       "      <td>20161231</td>\n",
       "      <td>-28547.84</td>\n",
       "      <td>-29260.31</td>\n",
       "      <td>712.47</td>\n",
       "    </tr>\n",
       "    <tr>\n",
       "      <th>ACB00091</th>\n",
       "      <td>BS</td>\n",
       "      <td>628.24</td>\n",
       "      <td>3054.74</td>\n",
       "      <td>20161231</td>\n",
       "      <td>2426.50</td>\n",
       "      <td>3138.97</td>\n",
       "      <td>-712.47</td>\n",
       "    </tr>\n",
       "    <tr>\n",
       "      <th>ACP00017</th>\n",
       "      <td>P&amp;L</td>\n",
       "      <td>654.01</td>\n",
       "      <td>24449.74</td>\n",
       "      <td>20161231</td>\n",
       "      <td>23795.73</td>\n",
       "      <td>23123.06</td>\n",
       "      <td>672.67</td>\n",
       "    </tr>\n",
       "    <tr>\n",
       "      <th>ACB00076</th>\n",
       "      <td>BS</td>\n",
       "      <td>768.49</td>\n",
       "      <td>-48456.11</td>\n",
       "      <td>20161231</td>\n",
       "      <td>-49224.60</td>\n",
       "      <td>-48551.93</td>\n",
       "      <td>-672.67</td>\n",
       "    </tr>\n",
       "    <tr>\n",
       "      <th>ACB00037</th>\n",
       "      <td>NaN</td>\n",
       "      <td>NaN</td>\n",
       "      <td>NaN</td>\n",
       "      <td>nan</td>\n",
       "      <td>NaN</td>\n",
       "      <td>19808.54</td>\n",
       "      <td>NaN</td>\n",
       "    </tr>\n",
       "    <tr>\n",
       "      <th>ACP00001</th>\n",
       "      <td>NaN</td>\n",
       "      <td>NaN</td>\n",
       "      <td>NaN</td>\n",
       "      <td>nan</td>\n",
       "      <td>NaN</td>\n",
       "      <td>-3817.92</td>\n",
       "      <td>NaN</td>\n",
       "    </tr>\n",
       "    <tr>\n",
       "      <th>ACP00041</th>\n",
       "      <td>NaN</td>\n",
       "      <td>NaN</td>\n",
       "      <td>NaN</td>\n",
       "      <td>nan</td>\n",
       "      <td>NaN</td>\n",
       "      <td>-14365.77</td>\n",
       "      <td>NaN</td>\n",
       "    </tr>\n",
       "    <tr>\n",
       "      <th>ACP00046</th>\n",
       "      <td>NaN</td>\n",
       "      <td>NaN</td>\n",
       "      <td>NaN</td>\n",
       "      <td>nan</td>\n",
       "      <td>NaN</td>\n",
       "      <td>1825.79</td>\n",
       "      <td>NaN</td>\n",
       "    </tr>\n",
       "    <tr>\n",
       "      <th>ACP00086</th>\n",
       "      <td>NaN</td>\n",
       "      <td>NaN</td>\n",
       "      <td>NaN</td>\n",
       "      <td>nan</td>\n",
       "      <td>NaN</td>\n",
       "      <td>-7263.37</td>\n",
       "      <td>NaN</td>\n",
       "    </tr>\n",
       "  </tbody>\n",
       "</table>\n",
       "</div>"
      ],
      "text/plain": [
       "         Type  Balance b/f  Balance c/f Balance date  TB_Movement  \\\n",
       "Account                                                             \n",
       "ACP00081  P&L         0.00    -16279.96     20161231    -16279.96   \n",
       "ACB00082   BS       760.09     -4041.02     20161231     -4801.11   \n",
       "ACP00071  P&L         0.00    -28547.84     20161231    -28547.84   \n",
       "ACB00091   BS       628.24      3054.74     20161231      2426.50   \n",
       "ACP00017  P&L       654.01     24449.74     20161231     23795.73   \n",
       "ACB00076   BS       768.49    -48456.11     20161231    -49224.60   \n",
       "ACB00037  NaN          NaN          NaN          nan          NaN   \n",
       "ACP00001  NaN          NaN          NaN          nan          NaN   \n",
       "ACP00041  NaN          NaN          NaN          nan          NaN   \n",
       "ACP00046  NaN          NaN          NaN          nan          NaN   \n",
       "ACP00086  NaN          NaN          NaN          nan          NaN   \n",
       "\n",
       "          GL_Movement  difference  \n",
       "Account                            \n",
       "ACP00081    -17017.89      737.93  \n",
       "ACB00082     -4063.18     -737.93  \n",
       "ACP00071    -29260.31      712.47  \n",
       "ACB00091      3138.97     -712.47  \n",
       "ACP00017     23123.06      672.67  \n",
       "ACB00076    -48551.93     -672.67  \n",
       "ACB00037     19808.54         NaN  \n",
       "ACP00001     -3817.92         NaN  \n",
       "ACP00041    -14365.77         NaN  \n",
       "ACP00046      1825.79         NaN  \n",
       "ACP00086     -7263.37         NaN  "
      ]
     },
     "execution_count": 6,
     "metadata": {},
     "output_type": "execute_result"
    }
   ],
   "source": [
    "Unreconciled = Rec_report[Rec_report.difference != 0]\n",
    "Unreconciled = Unreconciled.reindex(Unreconciled.difference.abs().sort_values(ascending = False).index)\n",
    "Unreconciled.to_csv('Unreconciled_accounts.txt', sep='|', encoding='utf-8', header=True, index=True)\n",
    "Unreconciled"
   ]
  },
  {
   "cell_type": "markdown",
   "metadata": {
    "deletable": true,
    "editable": true
   },
   "source": [
    "Create a report containing summary details:"
   ]
  },
  {
   "cell_type": "code",
   "execution_count": 7,
   "metadata": {
    "collapsed": false,
    "deletable": true,
    "editable": true
   },
   "outputs": [],
   "source": [
    "# Accounts not in the TB but in the GL\n",
    "Accounts_not_in_TB = Unreconciled[Unreconciled.TB_Movement.isnull() == True]"
   ]
  },
  {
   "cell_type": "code",
   "execution_count": 8,
   "metadata": {
    "collapsed": false,
    "deletable": true,
    "editable": true
   },
   "outputs": [],
   "source": [
    "# Accounts in the TB where TB_Movement isn't matched in the GL\n",
    "Missing_journals = Unreconciled[(Unreconciled.GL_Movement.isnull() == True)|(Unreconciled.difference.isnull() ==False)]"
   ]
  },
  {
   "cell_type": "code",
   "execution_count": 9,
   "metadata": {
    "collapsed": false,
    "deletable": true,
    "editable": true
   },
   "outputs": [],
   "source": [
    "Total_Accounts = len(Rec_report)\n",
    "Num_Rec_Accounts = Total_Accounts - len(Unreconciled)\n",
    "Num_Unrec_Accounts = len(Unreconciled)\n",
    "Rec_Fraction = Num_Rec_Accounts / Total_Accounts\n",
    "Unrec_Fraction = Num_Unrec_Accounts / Total_Accounts"
   ]
  },
  {
   "cell_type": "code",
   "execution_count": 10,
   "metadata": {
    "collapsed": false,
    "deletable": true,
    "editable": true
   },
   "outputs": [],
   "source": [
    "with open(\"Report.txt\", \"w\") as text_file:\n",
    "    print('The data contains',Total_Accounts, 'accounts', file=text_file)\n",
    "    print(Num_Rec_Accounts, 'accounts reconcile (', round(Rec_Fraction*100,2), '%)\\n', file=text_file)\n",
    "    print(Num_Unrec_Accounts, 'accounts do not reconcile (', round(Unrec_Fraction*100,2), '%)', file=text_file)"
   ]
  },
  {
   "cell_type": "code",
   "execution_count": 11,
   "metadata": {
    "collapsed": false,
    "deletable": true,
    "editable": true
   },
   "outputs": [],
   "source": [
    "with open(\"Report.txt\", \"a\") as text_file:\n",
    "    print('There are', len(Accounts_not_in_TB), 'accounts in the GL and not in the TB. (', round(100*(len(Accounts_not_in_TB)/Num_Unrec_Accounts),2), '% of unreconciled accounts)', file=text_file)\n",
    "    print('There are', len(Missing_journals), 'accounts with journals missing (', round(100*(len(Missing_journals)/Num_Unrec_Accounts),2), '% of unreconciled accounts)', file=text_file)"
   ]
  },
  {
   "cell_type": "code",
   "execution_count": 12,
   "metadata": {
    "collapsed": false,
    "deletable": true,
    "editable": true
   },
   "outputs": [],
   "source": [
    "net_diff = round(Unreconciled[Unreconciled.difference.isnull() == False].difference.sum(),2)\n",
    "with open(\"Report.txt\", \"a\") as text_file:\n",
    "    print('The net of all the differences is', net_diff, file=text_file)"
   ]
  },
  {
   "cell_type": "code",
   "execution_count": 13,
   "metadata": {
    "collapsed": false,
    "deletable": true,
    "editable": true
   },
   "outputs": [],
   "source": [
    "# Does the TB balance?\n",
    "with open(\"Report.txt\", \"a\") as text_file:\n",
    "    print('\\nTB opening balance is unbalanced by', \"%.2f\" % tb['Balance b/f'].sum(), file=text_file)\n",
    "    print('TB closing balance is unbalanced by',\"%.2f\" % tb['Balance c/f'].sum(), file=text_file)\n",
    "    print('***If these are not 0 then the TB is certainly wrong and receiving a \\nbalanced TB is the first step to reconciling all accounts***', file=text_file) "
   ]
  },
  {
   "cell_type": "code",
   "execution_count": 14,
   "metadata": {
    "collapsed": false,
    "deletable": true,
    "editable": true
   },
   "outputs": [],
   "source": [
    "diffs = Unreconciled.difference.abs().round().tolist()\n",
    "\n",
    "frequency = {}\n",
    "for w in diffs:\n",
    "    frequency[w] = frequency.get(w, 0) + 1\n",
    "\n",
    "pairs = {x for x in frequency if x > 1} # dict comprehension to filter for pairs \n",
    "with open(\"Report.txt\", \"a\") as text_file:\n",
    "    print('\\nThere are', len(pairs), 'unreconciled accounts with equal and opposite differences', file=text_file)"
   ]
  },
  {
   "cell_type": "code",
   "execution_count": 24,
   "metadata": {
    "collapsed": false,
    "deletable": true,
    "editable": true,
    "scrolled": true
   },
   "outputs": [
    {
     "name": "stdout",
     "output_type": "stream",
     "text": [
      "The data contains 110 accounts\n",
      "99 accounts reconcile ( 90.0 %)\n",
      "\n",
      "11 accounts do not reconcile ( 10.0 %)\n",
      "There are 5 accounts in the GL and not in the TB. ( 45.45 % of unreconciled accounts)\n",
      "There are 6 accounts with journals missing ( 54.55 % of unreconciled accounts)\n",
      "The net of all the differences is 0.0\n",
      "\n",
      "TB opening balance is unbalanced by -2486.28\n",
      "TB closing balance is unbalanced by 1326.45\n",
      "***If these are not 0 then the TB is certainly wrong and receiving a \n",
      "balanced TB is the first step to reconciling all accounts***\n",
      "\n",
      "There are 3 unreconciled accounts with equal and opposite differences\n",
      "\n"
     ]
    }
   ],
   "source": [
    "with open('Report.txt', 'r') as fin:\n",
    "    print(fin.read())"
   ]
  }
 ],
 "metadata": {
  "kernelspec": {
   "display_name": "Python 3",
   "language": "python",
   "name": "python3"
  },
  "language_info": {
   "codemirror_mode": {
    "name": "ipython",
    "version": 3
   },
   "file_extension": ".py",
   "mimetype": "text/x-python",
   "name": "python",
   "nbconvert_exporter": "python",
   "pygments_lexer": "ipython3",
   "version": "3.6.0"
  }
 },
 "nbformat": 4,
 "nbformat_minor": 0
}
